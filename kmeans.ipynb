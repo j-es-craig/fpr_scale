{
 "cells": [
  {
   "cell_type": "code",
   "execution_count": 5,
   "metadata": {},
   "outputs": [],
   "source": [
    "import os\n",
    "import cv2\n",
    "import numpy as np\n",
    "import pandas as pd\n",
    "import init\n",
    "\n",
    "in_dir = init.DATA_OUT_DIR\n",
    "out_dir = init.RESULTS_OUT_DIR\n",
    "\n",
    "file = init.RESULTS_OUT_DIR + '/YCbCr_pixels.csv'\n",
    "\n",
    "test_image = init.DATA_OUT_DIR + '/Normal_1.png'"
   ]
  },
  {
   "cell_type": "code",
   "execution_count": 6,
   "metadata": {},
   "outputs": [],
   "source": [
    "image = cv2.imread(test_image)\n",
    "\n",
    "if image.shape[2] == 4:\n",
    "    image = image[:,:,:3]\n",
    "\n",
    "ycbcr_image = cv2.cvtColor(image, cv2.COLOR_BGR2YCrCb)\n",
    "Y, Cr, Cb = cv2.split(ycbcr_image)\n",
    "ycbcr_flat = np.hstack((Y.flatten(), Cr.flatten(), Cb.flatten()))"
   ]
  },
  {
   "cell_type": "code",
   "execution_count": 13,
   "metadata": {},
   "outputs": [
    {
     "name": "stdout",
     "output_type": "stream",
     "text": [
      "[  0   0   0 ... 128 128 128]\n"
     ]
    }
   ],
   "source": [
    "np.shape(Y)\n",
    "print(ycbcr_flat)"
   ]
  }
 ],
 "metadata": {
  "kernelspec": {
   "display_name": ".venv",
   "language": "python",
   "name": "python3"
  },
  "language_info": {
   "codemirror_mode": {
    "name": "ipython",
    "version": 3
   },
   "file_extension": ".py",
   "mimetype": "text/x-python",
   "name": "python",
   "nbconvert_exporter": "python",
   "pygments_lexer": "ipython3",
   "version": "3.10.4"
  }
 },
 "nbformat": 4,
 "nbformat_minor": 2
}
