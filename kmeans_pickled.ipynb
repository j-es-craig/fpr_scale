{
 "cells": [
  {
   "cell_type": "code",
   "execution_count": 3,
   "metadata": {},
   "outputs": [],
   "source": [
    "import os\n",
    "import numpy as np\n",
    "import pandas as pd\n",
    "import matplotlib.pyplot as plt\n",
    "from sklearn.decomposition import PCA\n",
    "from sklearn.cluster import KMeans\n",
    "import pickle\n",
    "import glob\n",
    "import init"
   ]
  },
  {
   "cell_type": "code",
   "execution_count": 4,
   "metadata": {},
   "outputs": [
    {
     "name": "stdout",
     "output_type": "stream",
     "text": [
      "An error occurred: Error tokenizing data. C error: Expected 648193 fields in line 28, saw 654337\n",
      "\n"
     ]
    }
   ],
   "source": [
    "# Parameters\n",
    "file = init.RESULTS_OUT_DIR + '/YCbCr_pixels.csv'  # replace with your file path\n",
    "separator = ','  # replace with your separator if different\n",
    "chunk_size = 100000  # replace with your desired chunk size\n",
    "out_dir = init.RESULTS_OUT_DIR # replace with your output directory\n",
    "\n",
    "# Ensure the output directory exists\n",
    "os.makedirs(out_dir, exist_ok=True)\n",
    "\n",
    "# Function to log bad lines\n",
    "def log_bad_line(line, err):\n",
    "    with open('bad_lines.log', 'a') as log_file:\n",
    "        log_file.write(f\"Error in line: {line}\\n\")\n",
    "        log_file.write(f\"Error message: {err}\\n\\n\")\n",
    "\n",
    "# Read in data with pickling\n",
    "try:\n",
    "    with open(file, 'r') as f:\n",
    "        for i, chunk in enumerate(pd.read_csv(f, sep=separator, chunksize=chunk_size, low_memory=False)):\n",
    "            try:\n",
    "                out_file = os.path.join(out_dir, \"data_{}.pkl\".format(i+1))\n",
    "                with open(out_file, \"wb\") as f_out:\n",
    "                    pickle.dump(chunk, f_out, pickle.HIGHEST_PROTOCOL)\n",
    "                print(f\"Chunk {i+1} saved to {out_file}\")\n",
    "            except pd.errors.ParserError as pe:\n",
    "                log_bad_line(f.readline(), pe)\n",
    "\n",
    "except Exception as e:\n",
    "    print(f\"An error occurred: {e}\")\n"
   ]
  },
  {
   "cell_type": "code",
   "execution_count": null,
   "metadata": {},
   "outputs": [],
   "source": [
    "# read in pickles and append to df\n",
    "data_p_files = []\n",
    "\n",
    "for name in glob.glob(out_dir + \"/data_*.pkl\"):\n",
    "    data_p_files.append(name)\n",
    "\n",
    "df = pd.DataFrame([])\n",
    "for i in range(len(data_p_files)):\n",
    "    df = df.append(pd.read_pickle(data_p_files[i]), ignore_index = True)"
   ]
  },
  {
   "cell_type": "code",
   "execution_count": 13,
   "metadata": {},
   "outputs": [
    {
     "name": "stdout",
     "output_type": "stream",
     "text": [
      "[  0   0   0 ... 128 128 128]\n"
     ]
    }
   ],
   "source": [
    "# drop file name column\n",
    "data_drop = data.drop('Image', axis = 1)"
   ]
  }
 ],
 "metadata": {
  "kernelspec": {
   "display_name": ".venv",
   "language": "python",
   "name": "python3"
  },
  "language_info": {
   "codemirror_mode": {
    "name": "ipython",
    "version": 3
   },
   "file_extension": ".py",
   "mimetype": "text/x-python",
   "name": "python",
   "nbconvert_exporter": "python",
   "pygments_lexer": "ipython3",
   "version": "3.10.4"
  }
 },
 "nbformat": 4,
 "nbformat_minor": 2
}
